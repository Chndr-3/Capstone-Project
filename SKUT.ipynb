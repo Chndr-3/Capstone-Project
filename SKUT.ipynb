{
  "nbformat": 4,
  "nbformat_minor": 0,
  "metadata": {
    "colab": {
      "name": "SKUT.ipynb",
      "provenance": [],
      "collapsed_sections": []
    },
    "kernelspec": {
      "name": "python3",
      "display_name": "Python 3"
    },
    "language_info": {
      "name": "python"
    },
    "accelerator": "GPU"
  },
  "cells": [
    {
      "cell_type": "code",
      "execution_count": null,
      "metadata": {
        "id": "F8ins08TGJlI"
      },
      "outputs": [],
      "source": [
        "import tensorflow as tf\n",
        "import tensorflow_datasets as tfds\n",
        "import numpy as np\n",
        "import os\n",
        "import random\n",
        "from shutil import copyfile\n",
        "from keras.preprocessing.image import ImageDataGenerator\n",
        "import tensorflow_hub as hub\n",
        "from tensorflow import keras\n",
        "import matplotlib.pyplot as plt"
      ]
    },
    {
      "cell_type": "code",
      "source": [
        "root_path='/content/drive/MyDrive/Kuliah/Bangkit 2022/'\n",
        "os.makedirs(os.path.join(root_path,'training'))\n",
        "os.makedirs(os.path.join(root_path,'testing'))"
      ],
      "metadata": {
        "id": "_RHNX1RdKXlU"
      },
      "execution_count": null,
      "outputs": []
    },
    {
      "cell_type": "code",
      "source": [
        "root_path='/content/drive/MyDrive/Kuliah/Bangkit 2022/'\n",
        "dir_path=['whitehead','pustula','dermatitis perioral', 'blackhead', 'acne nodules',\n",
        "          'flek hitam', 'acne fulminans', 'rosacea', 'fungal acne', 'milia', 'papula']\n",
        "training_dir=root_path+'/training'\n",
        "testing_dir=root_path+'/testing'"
      ],
      "metadata": {
        "id": "o6J4MC7OL60e"
      },
      "execution_count": null,
      "outputs": []
    },
    {
      "cell_type": "code",
      "source": [
        "for dir in dir_path:\n",
        "  os.makedirs(os.path.join(training_dir,dir))\n",
        "  os.makedirs(os.path.join(testing_dir,dir))"
      ],
      "metadata": {
        "id": "lbz2QjsfQXNJ"
      },
      "execution_count": null,
      "outputs": []
    },
    {
      "cell_type": "code",
      "source": [
        "def splitData(source,training, testing,split_size):\n",
        "  #Make function to split the dataset into training and testing\n",
        "    files=[]\n",
        "    for filename in os.listdir(source):\n",
        "      file=source+'/'+filename\n",
        "      if os.path.getsize(file)>0:\n",
        "        files.append(filename)\n",
        "      else:\n",
        "        print(filename+\" is zero length\")\n",
        "    training_length=int(len(files)*split_size)\n",
        "    testing_length=int(len(files)-training_length)\n",
        "    shuffled_set=random.sample(files, len(files))\n",
        "    training_set=shuffled_set[:training_length]\n",
        "    testing_set=shuffled_set[training_length:]\n",
        "\n",
        "    for filename in training_set:\n",
        "      this_file=source+'/'+filename\n",
        "      destination=training+filename\n",
        "      copyfile(this_file,destination)\n",
        "    for filename in testing_set:\n",
        "      this_file=source+'/'+filename\n",
        "      destination=testing+filename\n",
        "      copyfile(this_file,destination)\n",
        "    pass\n"
      ],
      "metadata": {
        "id": "HmlrVmn2G8EF"
      },
      "execution_count": null,
      "outputs": []
    },
    {
      "cell_type": "code",
      "source": [
        "#Split dataset and copy into different folder\n",
        "for dir in dir_path:\n",
        "  splitData(root_path+'/Dataset/'+dir,training_dir+'/'+dir+'/',testing_dir+'/'+dir+'/',.9)"
      ],
      "metadata": {
        "id": "UWEEtezDOBSw"
      },
      "execution_count": null,
      "outputs": []
    },
    {
      "cell_type": "code",
      "source": [
        "#Create ImageDataGenerator\n",
        "def training_testing_generator(training_dir,testing_dir):\n",
        "  train_datagen=ImageDataGenerator(\n",
        "      rescale=1.0/255.0,\n",
        "      rotation_range=30,\n",
        "      height_shift_range=.4,\n",
        "      width_shift_range=.4,\n",
        "      zoom_range=.3,\n",
        "      shear_range=.3,\n",
        "      horizontal_flip=True,\n",
        "      fill_mode='nearest'\n",
        "  )\n",
        "  valid_datagen=ImageDataGenerator(rescale=1.0/255.0)\n",
        "  train_generator=train_datagen.flow_from_directory(training_dir,batch_size=64,class_mode='categorical',target_size=(224,224))\n",
        "  valid_generator=valid_datagen.flow_from_directory(training_dir,batch_size=64,class_mode='categorical',target_size=(224,224))\n",
        "  return train_generator,valid_generator"
      ],
      "metadata": {
        "id": "HAA5Z7dQ_1kf"
      },
      "execution_count": null,
      "outputs": []
    },
    {
      "cell_type": "code",
      "source": [
        "#Make the generator\n",
        "train_generator, validation_generator = training_testing_generator(training_dir, testing_dir)"
      ],
      "metadata": {
        "colab": {
          "base_uri": "https://localhost:8080/"
        },
        "id": "d7Na9jOvBmA_",
        "outputId": "ec4c1508-4c11-4321-f28d-621cc04ec60c"
      },
      "execution_count": null,
      "outputs": [
        {
          "output_type": "stream",
          "name": "stdout",
          "text": [
            "Found 677 images belonging to 11 classes.\n",
            "Found 677 images belonging to 11 classes.\n"
          ]
        }
      ]
    },
    {
      "cell_type": "code",
      "source": [
        "#Create Model\n",
        "def createModel():\n",
        "  feature_extractor= hub.KerasLayer('https://tfhub.dev/google/imagenet/mobilenet_v3_large_100_224/classification/5',input_shape=(224,224) + (3,))\n",
        "  feature_extractor.trainable = True\n",
        "  model=tf.keras.Sequential([\n",
        "    feature_extractor,\n",
        "    tf.keras.layers.Dense(11,activation='softmax')\n",
        "  ])\n",
        "  model.summary()\n",
        "  return model"
      ],
      "metadata": {
        "id": "DtBV90FqCfep"
      },
      "execution_count": null,
      "outputs": []
    },
    {
      "cell_type": "code",
      "source": [
        "#Make model\n",
        "model=createModel()\n",
        "model.compile(optimizer='adam',loss='categorical_crossentropy',metrics=['accuracy'])\n",
        "history=model.fit(train_generator,epochs=20,verbose=1,validation_data=validation_generator)"
      ],
      "metadata": {
        "colab": {
          "base_uri": "https://localhost:8080/"
        },
        "id": "s7owzOFmDlFL",
        "outputId": "c10b0aeb-f08a-47cf-dd2a-c05c4b00846c"
      },
      "execution_count": null,
      "outputs": [
        {
          "output_type": "stream",
          "name": "stdout",
          "text": [
            "Model: \"sequential_10\"\n",
            "_________________________________________________________________\n",
            " Layer (type)                Output Shape              Param #   \n",
            "=================================================================\n",
            " keras_layer_10 (KerasLayer)  (None, 1001)             5508713   \n",
            "                                                                 \n",
            " dense_10 (Dense)            (None, 11)                11022     \n",
            "                                                                 \n",
            "=================================================================\n",
            "Total params: 5,519,735\n",
            "Trainable params: 5,495,335\n",
            "Non-trainable params: 24,400\n",
            "_________________________________________________________________\n",
            "Epoch 1/20\n"
          ]
        },
        {
          "output_type": "stream",
          "name": "stderr",
          "text": [
            "/usr/local/lib/python3.7/dist-packages/PIL/TiffImagePlugin.py:788: UserWarning: Corrupt EXIF data.  Expecting to read 4 bytes but only got 0. \n",
            "  warnings.warn(str(msg))\n"
          ]
        },
        {
          "output_type": "stream",
          "name": "stdout",
          "text": [
            "11/11 [==============================] - 36s 2s/step - loss: 2.3688 - accuracy: 0.4505 - val_loss: 3.9194 - val_accuracy: 0.3117\n",
            "Epoch 2/20\n",
            "11/11 [==============================] - 22s 2s/step - loss: 1.2395 - accuracy: 0.7267 - val_loss: 2.8136 - val_accuracy: 0.4756\n",
            "Epoch 3/20\n",
            "11/11 [==============================] - 22s 2s/step - loss: 1.1446 - accuracy: 0.7578 - val_loss: 2.1410 - val_accuracy: 0.5982\n",
            "Epoch 4/20\n",
            "11/11 [==============================] - 22s 2s/step - loss: 0.9553 - accuracy: 0.8198 - val_loss: 3.0821 - val_accuracy: 0.5436\n",
            "Epoch 5/20\n",
            "11/11 [==============================] - 22s 2s/step - loss: 0.7230 - accuracy: 0.8936 - val_loss: 1.7718 - val_accuracy: 0.6809\n",
            "Epoch 6/20\n",
            "11/11 [==============================] - 22s 2s/step - loss: 0.7154 - accuracy: 0.8715 - val_loss: 1.9097 - val_accuracy: 0.7326\n",
            "Epoch 7/20\n",
            "11/11 [==============================] - 22s 2s/step - loss: 0.7693 - accuracy: 0.8700 - val_loss: 2.1937 - val_accuracy: 0.6544\n",
            "Epoch 8/20\n",
            "11/11 [==============================] - 22s 2s/step - loss: 0.8751 - accuracy: 0.8715 - val_loss: 1.6320 - val_accuracy: 0.7578\n",
            "Epoch 9/20\n",
            "11/11 [==============================] - 22s 2s/step - loss: 0.8119 - accuracy: 0.8833 - val_loss: 1.4521 - val_accuracy: 0.7725\n",
            "Epoch 10/20\n",
            "11/11 [==============================] - 22s 2s/step - loss: 0.6688 - accuracy: 0.8936 - val_loss: 1.2261 - val_accuracy: 0.7843\n",
            "Epoch 11/20\n",
            "11/11 [==============================] - 22s 2s/step - loss: 0.6190 - accuracy: 0.9025 - val_loss: 1.7064 - val_accuracy: 0.7607\n",
            "Epoch 12/20\n",
            "11/11 [==============================] - 22s 2s/step - loss: 0.6101 - accuracy: 0.9188 - val_loss: 1.5223 - val_accuracy: 0.7947\n",
            "Epoch 13/20\n",
            "11/11 [==============================] - 22s 2s/step - loss: 0.5700 - accuracy: 0.9261 - val_loss: 0.8324 - val_accuracy: 0.8685\n",
            "Epoch 14/20\n",
            "11/11 [==============================] - 22s 2s/step - loss: 0.5645 - accuracy: 0.9247 - val_loss: 0.9131 - val_accuracy: 0.8744\n",
            "Epoch 15/20\n",
            "11/11 [==============================] - 22s 2s/step - loss: 0.5090 - accuracy: 0.9409 - val_loss: 1.1851 - val_accuracy: 0.8656\n",
            "Epoch 16/20\n",
            "11/11 [==============================] - 22s 2s/step - loss: 0.5053 - accuracy: 0.9409 - val_loss: 0.5484 - val_accuracy: 0.9394\n",
            "Epoch 17/20\n",
            "11/11 [==============================] - 22s 2s/step - loss: 0.4542 - accuracy: 0.9586 - val_loss: 1.2782 - val_accuracy: 0.8759\n",
            "Epoch 18/20\n",
            "11/11 [==============================] - 22s 2s/step - loss: 0.4517 - accuracy: 0.9527 - val_loss: 0.5705 - val_accuracy: 0.9409\n",
            "Epoch 19/20\n",
            "11/11 [==============================] - 22s 2s/step - loss: 0.4264 - accuracy: 0.9631 - val_loss: 0.4871 - val_accuracy: 0.9572\n",
            "Epoch 20/20\n",
            "11/11 [==============================] - 22s 2s/step - loss: 0.4796 - accuracy: 0.9572 - val_loss: 0.5632 - val_accuracy: 0.9616\n"
          ]
        }
      ]
    },
    {
      "cell_type": "code",
      "source": [
        "#-----------------------------------------------------------\n",
        "# Retrieve a list of list results on training and test data\n",
        "# sets for each training epoch\n",
        "#-----------------------------------------------------------\n",
        "acc=history.history['accuracy']\n",
        "val_acc=history.history['val_accuracy']\n",
        "loss=history.history['loss']\n",
        "val_loss=history.history['val_loss']\n",
        "\n",
        "epochs=range(len(acc)) # Get number of epochs\n",
        "\n",
        "#------------------------------------------------\n",
        "# Plot training and validation accuracy per epoch\n",
        "#------------------------------------------------\n",
        "plt.plot(epochs, acc, 'r', \"Training Accuracy\")\n",
        "plt.plot(epochs, val_acc, 'b', \"Validation Accuracy\")\n",
        "plt.title('Training and validation accuracy')\n",
        "plt.show()\n",
        "print(\"\")\n",
        "\n",
        "#------------------------------------------------\n",
        "# Plot training and validation loss per epoch\n",
        "#------------------------------------------------\n",
        "plt.plot(epochs, loss, 'r', \"Training Loss\")\n",
        "plt.plot(epochs, val_loss, 'b', \"Validation Loss\")\n",
        "plt.show()"
      ],
      "metadata": {
        "colab": {
          "base_uri": "https://localhost:8080/",
          "height": 546
        },
        "id": "0B1oDUiGWyON",
        "outputId": "3fe000bd-4fff-48ed-8c2c-4a41756eb740"
      },
      "execution_count": null,
      "outputs": [
        {
          "output_type": "display_data",
          "data": {
            "text/plain": [
              "<Figure size 432x288 with 1 Axes>"
            ],
            "image/png": "[encoded data removed]"
          },
          "metadata": {
            "needs_background": "light"
          }
        },
        {
          "output_type": "stream",
          "name": "stdout",
          "text": [
            "\n"
          ]
        },
        {
          "output_type": "display_data",
          "data": {
            "text/plain": [
              "<Figure size 432x288 with 1 Axes>"
            ],
            "image/png": "[encoded data removed]"
          },
          "metadata": {
            "needs_background": "light"
          }
        }
      ]
    },
    {
      "cell_type": "code",
      "source": [
        "labels=['papula', 'milia', 'fungal acne', 'rosacea', 'acne fulminans', 'flek hitam', \n",
        "        'acne nodules', 'black head', 'dermatitis perioral', 'pustula', 'whitehead']"
      ],
      "metadata": {
        "id": "ZXrZL_XJim1N"
      },
      "execution_count": null,
      "outputs": []
    },
    {
      "cell_type": "code",
      "source": [
        "#Predict model\n",
        "import cv2\n",
        "np_image = cv2.imread('/content/testing.jpeg')\n",
        "np_image = np.array(np_image).astype('float32')/255\n",
        "np_image = tf.image.resize(np_image, (224, 224))\n",
        "np_image = np.expand_dims(np_image, axis=0)\n",
        "predicted=model.predict(np_image)\n",
        "label = predicted.argmax(axis=-1)\n",
        "print(labels[label[0]])"
      ],
      "metadata": {
        "colab": {
          "base_uri": "https://localhost:8080/"
        },
        "id": "SbCftIOKfe0B",
        "outputId": "431f35a4-61ac-4ad0-ccd0-4a2582491fe3"
      },
      "execution_count": null,
      "outputs": [
        {
          "output_type": "stream",
          "name": "stdout",
          "text": [
            "acne nodules\n"
          ]
        }
      ]
    }
  ]
}